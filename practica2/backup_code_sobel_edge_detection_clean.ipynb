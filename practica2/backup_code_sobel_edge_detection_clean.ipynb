{
 "cells": [
  {
   "cell_type": "markdown",
   "metadata": {},
   "source": [
    "# PRÁCTICA 1: PROCESAMIENTO PARALELO DE DATOS\n",
    "\n",
    "## RUBÉN JOSÉ TENZA MARTÍN "
   ]
  },
  {
   "cell_type": "markdown",
   "metadata": {
    "id": "RF0uZTWMGgBy"
   },
   "source": [
    "# Sobel (edge detection) mask from scratch: single process\n",
    "\n",
    "Using no parallelization."
   ]
  },
  {
   "cell_type": "code",
   "execution_count": 2,
   "metadata": {
    "colab": {
     "base_uri": "https://localhost:8080/",
     "height": 393
    },
    "executionInfo": {
     "elapsed": 103967,
     "status": "ok",
     "timestamp": 1738094335222,
     "user": {
      "displayName": "Juan Manuel Cebrián González",
      "userId": "17881146049396517988"
     },
     "user_tz": -60
    },
    "id": "696yYi569A2q",
    "outputId": "d8a29e8b-0cc3-4198-f2c0-0787b92341f2"
   },
   "outputs": [
    {
     "ename": "FileNotFoundError",
     "evalue": "[Errno 2] No such file or directory: '/workspaces/procesamiento-paralelo/American_Eskimo_Dog_1.jpg'",
     "output_type": "error",
     "traceback": [
      "\u001b[0;31m---------------------------------------------------------------------------\u001b[0m",
      "\u001b[0;31mFileNotFoundError\u001b[0m                         Traceback (most recent call last)",
      "File \u001b[0;32m<timed exec>:66\u001b[0m\n",
      "File \u001b[0;32m<timed exec>:9\u001b[0m, in \u001b[0;36mload_image\u001b[0;34m(image_path)\u001b[0m\n",
      "File \u001b[0;32m~/.local/lib/python3.12/site-packages/PIL/Image.py:3469\u001b[0m, in \u001b[0;36mopen\u001b[0;34m(fp, mode, formats)\u001b[0m\n\u001b[1;32m   3466\u001b[0m     filename \u001b[38;5;241m=\u001b[39m os\u001b[38;5;241m.\u001b[39mpath\u001b[38;5;241m.\u001b[39mrealpath(os\u001b[38;5;241m.\u001b[39mfspath(fp))\n\u001b[1;32m   3468\u001b[0m \u001b[38;5;28;01mif\u001b[39;00m filename:\n\u001b[0;32m-> 3469\u001b[0m     fp \u001b[38;5;241m=\u001b[39m \u001b[43mbuiltins\u001b[49m\u001b[38;5;241;43m.\u001b[39;49m\u001b[43mopen\u001b[49m\u001b[43m(\u001b[49m\u001b[43mfilename\u001b[49m\u001b[43m,\u001b[49m\u001b[43m \u001b[49m\u001b[38;5;124;43m\"\u001b[39;49m\u001b[38;5;124;43mrb\u001b[39;49m\u001b[38;5;124;43m\"\u001b[39;49m\u001b[43m)\u001b[49m\n\u001b[1;32m   3470\u001b[0m     exclusive_fp \u001b[38;5;241m=\u001b[39m \u001b[38;5;28;01mTrue\u001b[39;00m\n\u001b[1;32m   3471\u001b[0m \u001b[38;5;28;01melse\u001b[39;00m:\n",
      "\u001b[0;31mFileNotFoundError\u001b[0m: [Errno 2] No such file or directory: '/workspaces/procesamiento-paralelo/American_Eskimo_Dog_1.jpg'"
     ]
    }
   ],
   "source": [
    "%%time\n",
    "import numpy as np\n",
    "from PIL import Image\n",
    "import matplotlib.pyplot as plt\n",
    "\n",
    "def load_image(image_path):\n",
    "    \"\"\"\n",
    "    Load an image and convert it to grayscale.\n",
    "    \"\"\"\n",
    "    image = Image.open(image_path).convert('L')\n",
    "    return np.array(image)\n",
    "\n",
    "def apply_convolution(image, kernel):\n",
    "    \"\"\"\n",
    "    Apply a convolution operation on the image with a given kernel.\n",
    "    \"\"\"\n",
    "    kernel_height, kernel_width = kernel.shape\n",
    "    image_height, image_width = image.shape\n",
    "\n",
    "    # Padding to keep the output size the same as the input size\n",
    "    pad_height = kernel_height // 2\n",
    "    pad_width = kernel_width // 2\n",
    "    padded_image = np.pad(image, ((pad_height, pad_height), (pad_width, pad_width)), mode='constant', constant_values=0)\n",
    "\n",
    "    # Initialize the output image\n",
    "    output = np.zeros_like(image, dtype=float)\n",
    "\n",
    "    # Perform convolution\n",
    "    for i in range(image_height):\n",
    "        for j in range(image_width):\n",
    "            region = padded_image[i:i+kernel_height, j:j+kernel_width]\n",
    "            output[i, j] = np.sum(region * kernel)\n",
    "\n",
    "    return output\n",
    "\n",
    "def normalize_image(image):\n",
    "    \"\"\"\n",
    "    Normalize an image to the range 0-255.\n",
    "    \"\"\"\n",
    "    image = np.abs(image)\n",
    "    return ((image - np.min(image)) / (np.max(image) - np.min(image)) * 255).astype(np.uint8)\n",
    "\n",
    "def detect_edges(image):\n",
    "    \"\"\"\n",
    "    Detect edges using the Sobel operator.\n",
    "    \"\"\"\n",
    "    # Sobel kernels for detecting horizontal and vertical edges\n",
    "    sobel_x = np.array([[-1, 0, 1],\n",
    "                        [-2, 0, 2],\n",
    "                        [-1, 0, 1]])\n",
    "\n",
    "    sobel_y = np.array([[-1, -2, -1],\n",
    "                        [ 0,  0,  0],\n",
    "                        [ 1,  2,  1]])\n",
    "\n",
    "    # Apply convolution with Sobel kernels\n",
    "    gradient_x = apply_convolution(image, sobel_x)\n",
    "    gradient_y = apply_convolution(image, sobel_y)\n",
    "\n",
    "    # Combine gradients to compute the edge intensity\n",
    "    edges = np.sqrt(gradient_x**2 + gradient_y**2)\n",
    "\n",
    "    return normalize_image(edges)\n",
    "\n",
    "# image_path = 'https://en.wikipedia.org/wiki/File:American_Eskimo_Dog_1.jpg'  # Replace with your image path\n",
    "image_path = './American_Eskimo_Dog_1.jpg'\n",
    "image = load_image(image_path)\n",
    "\n",
    "edges = detect_edges(image)\n",
    "\n",
    "# Display the original and edge-detected images\n",
    "plt.figure(figsize=(10, 5))\n",
    "plt.subplot(1, 2, 1)\n",
    "plt.title('Original Image')\n",
    "plt.imshow(image, cmap='gray')\n",
    "plt.axis('off')\n",
    "\n",
    "plt.subplot(1, 2, 2)\n",
    "plt.title('Edge Detected Image')\n",
    "plt.imshow(edges, cmap='gray')\n",
    "plt.axis('off')\n",
    "\n",
    "plt.show()"
   ]
  }
 ],
 "metadata": {
  "colab": {
   "provenance": []
  },
  "kernelspec": {
   "display_name": "Python 3",
   "name": "python3"
  },
  "language_info": {
   "codemirror_mode": {
    "name": "ipython",
    "version": 3
   },
   "file_extension": ".py",
   "mimetype": "text/x-python",
   "name": "python",
   "nbconvert_exporter": "python",
   "pygments_lexer": "ipython3",
   "version": "3.12.1"
  }
 },
 "nbformat": 4,
 "nbformat_minor": 0
}
